{
 "cells": [
  {
   "cell_type": "markdown",
   "id": "847825d8-854d-43ce-9325-53bfafbfb2c8",
   "metadata": {},
   "source": [
    "### TC4034.10 Análisis de grandes volúmenes de datos\n",
    "\n",
    "#### Equipo 13\n",
    "\n",
    "\n",
    "* Hansel Zapiain Rodríguez (A00469031)\n",
    "* Miguel Guillermo Galindo Orozco (A01793695)\n",
    "* Francisco José Arellano Montes (A01794283)"
   ]
  },
  {
   "cell_type": "markdown",
   "id": "22b5645d-34f3-4e14-a6dc-ff989c38e498",
   "metadata": {},
   "source": [
    "**4.3 Avance de proyecto 1: Sistema de Recomendación**\n",
    "   \n",
    "Mayo 2024\n",
    "\n",
    "**Objetivos**\n",
    "\n",
    "\n",
    "El desarrollo de esta actividad contribuye al cumplimiento del objetivo del Modulo 2:\n",
    "\n",
    "Identificar las diferentes plataformas de Big Data Analytics y sus características para el manejo de tareas de procesamiento de datos a gran escala.\n",
    "\n",
    "\n",
    "**Instrucciones**\n",
    "\n",
    "En esta entrega es necesario realizar un reporte donde se enlisten los siguientes aspectos:\n",
    "Genera un plan de proyecto de acuerdo con la industria elegida por tu equipo en la actividad 2.2 y detalla el plan del proyecto con su cronograma.\n",
    "Justifica la selección del conjunto de datos utilizado y describe los pasos de preprocesamiento.\n",
    "Realiza al menos un ejercicio de exploración inicial y análisis del conjunto de datos de la industria elegida (la evidencia se debe pone en el repositorio GitHub del equipo). Programa al menos un 1 algoritmo de recomendación básico con el conjunto de datos elegido (la evidencia se debe pone en el repositorio GitHub del equipo)."
   ]
  },
  {
   "cell_type": "markdown",
   "id": "d84fd0b6-64f9-4b67-812b-c351353f4caf",
   "metadata": {},
   "source": [
    "## Importar Librerias"
   ]
  },
  {
   "cell_type": "code",
   "execution_count": 1,
   "id": "4f139237-85dd-42cd-8dfd-d492debc8615",
   "metadata": {},
   "outputs": [],
   "source": [
    "import numpy as np\n",
    "import pandas as pd\n",
    "import seaborn as sns\n",
    "import scipy.sparse as sp\n",
    "import itertools\n",
    "import matplotlib.pyplot as plt\n",
    "\n",
    "from datasets import load_dataset\n",
    "from math import sqrt\n",
    "\n",
    "from sklearn.model_selection import train_test_split\n",
    "from sklearn.metrics.pairwise import pairwise_distances\n",
    "from sklearn.metrics import mean_squared_error\n",
    "from scipy.sparse.linalg import svds"
   ]
  },
  {
   "cell_type": "code",
   "execution_count": 2,
   "id": "02d153e0-4530-43d0-a4b7-22ccee39a525",
   "metadata": {},
   "outputs": [
    {
     "name": "stderr",
     "output_type": "stream",
     "text": [
      "C:\\Users\\hzapi\\anaconda3\\Lib\\site-packages\\datasets\\load.py:1486: FutureWarning: The repository for McAuley-Lab/Amazon-Reviews-2023 contains custom code which must be executed to correctly load the dataset. You can inspect the repository content at https://hf.co/datasets/McAuley-Lab/Amazon-Reviews-2023\n",
      "You can avoid this message in future by passing the argument `trust_remote_code=True`.\n",
      "Passing `trust_remote_code=True` will be mandatory to load this dataset from the next major release of `datasets`.\n",
      "  warnings.warn(\n"
     ]
    },
    {
     "data": {
      "application/vnd.jupyter.widget-view+json": {
       "model_id": "3c4bf8d19fcc45ca820321f79a199f30",
       "version_major": 2,
       "version_minor": 0
      },
      "text/plain": [
       "Downloading builder script:   0%|          | 0.00/39.6k [00:00<?, ?B/s]"
      ]
     },
     "metadata": {},
     "output_type": "display_data"
    },
    {
     "data": {
      "application/vnd.jupyter.widget-view+json": {
       "model_id": "dd6d2ef08d7e48cb948542007fd912fb",
       "version_major": 2,
       "version_minor": 0
      },
      "text/plain": [
       "Downloading readme:   0%|          | 0.00/19.7k [00:00<?, ?B/s]"
      ]
     },
     "metadata": {},
     "output_type": "display_data"
    },
    {
     "data": {
      "application/vnd.jupyter.widget-view+json": {
       "model_id": "3f711eb8fa4e4e6eb4947beb52fc5a47",
       "version_major": 2,
       "version_minor": 0
      },
      "text/plain": [
       "Downloading data:   0%|          | 0.00/327M [00:00<?, ?B/s]"
      ]
     },
     "metadata": {},
     "output_type": "display_data"
    },
    {
     "data": {
      "application/vnd.jupyter.widget-view+json": {
       "model_id": "7126cd151fbd4d879750e7e1d6411f14",
       "version_major": 2,
       "version_minor": 0
      },
      "text/plain": [
       "Generating full split:   0%|          | 0/701528 [00:00<?, ? examples/s]"
      ]
     },
     "metadata": {},
     "output_type": "display_data"
    }
   ],
   "source": [
    "dataset = load_dataset('McAuley-Lab/Amazon-Reviews-2023', 'raw_review_All_Beauty', download_mode = 'force_redownload')"
   ]
  },
  {
   "cell_type": "code",
   "execution_count": 3,
   "id": "3b1a16a3-3ba9-4162-b8ae-dd68747bca41",
   "metadata": {},
   "outputs": [
    {
     "data": {
      "text/html": [
       "<div>\n",
       "<style scoped>\n",
       "    .dataframe tbody tr th:only-of-type {\n",
       "        vertical-align: middle;\n",
       "    }\n",
       "\n",
       "    .dataframe tbody tr th {\n",
       "        vertical-align: top;\n",
       "    }\n",
       "\n",
       "    .dataframe thead th {\n",
       "        text-align: right;\n",
       "    }\n",
       "</style>\n",
       "<table border=\"1\" class=\"dataframe\">\n",
       "  <thead>\n",
       "    <tr style=\"text-align: right;\">\n",
       "      <th></th>\n",
       "      <th>rating</th>\n",
       "      <th>title</th>\n",
       "      <th>text</th>\n",
       "      <th>images</th>\n",
       "      <th>asin</th>\n",
       "      <th>parent_asin</th>\n",
       "      <th>user_id</th>\n",
       "      <th>timestamp</th>\n",
       "      <th>helpful_vote</th>\n",
       "      <th>verified_purchase</th>\n",
       "    </tr>\n",
       "  </thead>\n",
       "  <tbody>\n",
       "    <tr>\n",
       "      <th>0</th>\n",
       "      <td>5.0</td>\n",
       "      <td>Such a lovely scent but not overpowering.</td>\n",
       "      <td>This spray is really nice. It smells really go...</td>\n",
       "      <td>[]</td>\n",
       "      <td>B00YQ6X8EO</td>\n",
       "      <td>B00YQ6X8EO</td>\n",
       "      <td>AGKHLEW2SOWHNMFQIJGBECAF7INQ</td>\n",
       "      <td>1588687728923</td>\n",
       "      <td>0</td>\n",
       "      <td>True</td>\n",
       "    </tr>\n",
       "    <tr>\n",
       "      <th>1</th>\n",
       "      <td>4.0</td>\n",
       "      <td>Works great but smells a little weird.</td>\n",
       "      <td>This product does what I need it to do, I just...</td>\n",
       "      <td>[]</td>\n",
       "      <td>B081TJ8YS3</td>\n",
       "      <td>B081TJ8YS3</td>\n",
       "      <td>AGKHLEW2SOWHNMFQIJGBECAF7INQ</td>\n",
       "      <td>1588615855070</td>\n",
       "      <td>1</td>\n",
       "      <td>True</td>\n",
       "    </tr>\n",
       "    <tr>\n",
       "      <th>2</th>\n",
       "      <td>5.0</td>\n",
       "      <td>Yes!</td>\n",
       "      <td>Smells good, feels great!</td>\n",
       "      <td>[]</td>\n",
       "      <td>B07PNNCSP9</td>\n",
       "      <td>B097R46CSY</td>\n",
       "      <td>AE74DYR3QUGVPZJ3P7RFWBGIX7XQ</td>\n",
       "      <td>1589665266052</td>\n",
       "      <td>2</td>\n",
       "      <td>True</td>\n",
       "    </tr>\n",
       "    <tr>\n",
       "      <th>3</th>\n",
       "      <td>1.0</td>\n",
       "      <td>Synthetic feeling</td>\n",
       "      <td>Felt synthetic</td>\n",
       "      <td>[]</td>\n",
       "      <td>B09JS339BZ</td>\n",
       "      <td>B09JS339BZ</td>\n",
       "      <td>AFQLNQNQYFWQZPJQZS6V3NZU4QBQ</td>\n",
       "      <td>1643393630220</td>\n",
       "      <td>0</td>\n",
       "      <td>True</td>\n",
       "    </tr>\n",
       "    <tr>\n",
       "      <th>4</th>\n",
       "      <td>5.0</td>\n",
       "      <td>A+</td>\n",
       "      <td>Love it</td>\n",
       "      <td>[]</td>\n",
       "      <td>B08BZ63GMJ</td>\n",
       "      <td>B08BZ63GMJ</td>\n",
       "      <td>AFQLNQNQYFWQZPJQZS6V3NZU4QBQ</td>\n",
       "      <td>1609322563534</td>\n",
       "      <td>0</td>\n",
       "      <td>True</td>\n",
       "    </tr>\n",
       "  </tbody>\n",
       "</table>\n",
       "</div>"
      ],
      "text/plain": [
       "   rating                                      title  \\\n",
       "0     5.0  Such a lovely scent but not overpowering.   \n",
       "1     4.0     Works great but smells a little weird.   \n",
       "2     5.0                                       Yes!   \n",
       "3     1.0                          Synthetic feeling   \n",
       "4     5.0                                         A+   \n",
       "\n",
       "                                                text images        asin  \\\n",
       "0  This spray is really nice. It smells really go...     []  B00YQ6X8EO   \n",
       "1  This product does what I need it to do, I just...     []  B081TJ8YS3   \n",
       "2                          Smells good, feels great!     []  B07PNNCSP9   \n",
       "3                                     Felt synthetic     []  B09JS339BZ   \n",
       "4                                            Love it     []  B08BZ63GMJ   \n",
       "\n",
       "  parent_asin                       user_id      timestamp  helpful_vote  \\\n",
       "0  B00YQ6X8EO  AGKHLEW2SOWHNMFQIJGBECAF7INQ  1588687728923             0   \n",
       "1  B081TJ8YS3  AGKHLEW2SOWHNMFQIJGBECAF7INQ  1588615855070             1   \n",
       "2  B097R46CSY  AE74DYR3QUGVPZJ3P7RFWBGIX7XQ  1589665266052             2   \n",
       "3  B09JS339BZ  AFQLNQNQYFWQZPJQZS6V3NZU4QBQ  1643393630220             0   \n",
       "4  B08BZ63GMJ  AFQLNQNQYFWQZPJQZS6V3NZU4QBQ  1609322563534             0   \n",
       "\n",
       "   verified_purchase  \n",
       "0               True  \n",
       "1               True  \n",
       "2               True  \n",
       "3               True  \n",
       "4               True  "
      ]
     },
     "execution_count": 3,
     "metadata": {},
     "output_type": "execute_result"
    }
   ],
   "source": [
    "df_amz = dataset['full'].to_pandas()\n",
    "df_amz.head()"
   ]
  },
  {
   "cell_type": "markdown",
   "id": "a9b7d7ab-a27a-43ed-8fb6-1cf625208fbf",
   "metadata": {},
   "source": [
    "## Exploración de Datos"
   ]
  },
  {
   "cell_type": "code",
   "execution_count": 4,
   "id": "945eb8ab-94f7-4615-96b5-ef32f5fca57e",
   "metadata": {},
   "outputs": [
    {
     "data": {
      "text/plain": [
       "(701528, 10)"
      ]
     },
     "execution_count": 4,
     "metadata": {},
     "output_type": "execute_result"
    }
   ],
   "source": [
    "df_amz.shape"
   ]
  },
  {
   "cell_type": "code",
   "execution_count": 5,
   "id": "db1c4630-e963-4408-ad33-bd62bb5539fd",
   "metadata": {},
   "outputs": [
    {
     "data": {
      "text/html": [
       "<div>\n",
       "<style scoped>\n",
       "    .dataframe tbody tr th:only-of-type {\n",
       "        vertical-align: middle;\n",
       "    }\n",
       "\n",
       "    .dataframe tbody tr th {\n",
       "        vertical-align: top;\n",
       "    }\n",
       "\n",
       "    .dataframe thead th {\n",
       "        text-align: right;\n",
       "    }\n",
       "</style>\n",
       "<table border=\"1\" class=\"dataframe\">\n",
       "  <thead>\n",
       "    <tr style=\"text-align: right;\">\n",
       "      <th></th>\n",
       "      <th>rating</th>\n",
       "      <th>timestamp</th>\n",
       "      <th>helpful_vote</th>\n",
       "    </tr>\n",
       "  </thead>\n",
       "  <tbody>\n",
       "    <tr>\n",
       "      <th>count</th>\n",
       "      <td>701528.000000</td>\n",
       "      <td>7.015280e+05</td>\n",
       "      <td>701528.000000</td>\n",
       "    </tr>\n",
       "    <tr>\n",
       "      <th>mean</th>\n",
       "      <td>3.960245</td>\n",
       "      <td>1.554781e+12</td>\n",
       "      <td>0.923588</td>\n",
       "    </tr>\n",
       "    <tr>\n",
       "      <th>std</th>\n",
       "      <td>1.494452</td>\n",
       "      <td>8.005792e+10</td>\n",
       "      <td>5.471391</td>\n",
       "    </tr>\n",
       "    <tr>\n",
       "      <th>min</th>\n",
       "      <td>1.000000</td>\n",
       "      <td>9.730527e+11</td>\n",
       "      <td>0.000000</td>\n",
       "    </tr>\n",
       "    <tr>\n",
       "      <th>25%</th>\n",
       "      <td>3.000000</td>\n",
       "      <td>1.501616e+12</td>\n",
       "      <td>0.000000</td>\n",
       "    </tr>\n",
       "    <tr>\n",
       "      <th>50%</th>\n",
       "      <td>5.000000</td>\n",
       "      <td>1.571595e+12</td>\n",
       "      <td>0.000000</td>\n",
       "    </tr>\n",
       "    <tr>\n",
       "      <th>75%</th>\n",
       "      <td>5.000000</td>\n",
       "      <td>1.614647e+12</td>\n",
       "      <td>1.000000</td>\n",
       "    </tr>\n",
       "    <tr>\n",
       "      <th>max</th>\n",
       "      <td>5.000000</td>\n",
       "      <td>1.694220e+12</td>\n",
       "      <td>646.000000</td>\n",
       "    </tr>\n",
       "  </tbody>\n",
       "</table>\n",
       "</div>"
      ],
      "text/plain": [
       "              rating     timestamp   helpful_vote\n",
       "count  701528.000000  7.015280e+05  701528.000000\n",
       "mean        3.960245  1.554781e+12       0.923588\n",
       "std         1.494452  8.005792e+10       5.471391\n",
       "min         1.000000  9.730527e+11       0.000000\n",
       "25%         3.000000  1.501616e+12       0.000000\n",
       "50%         5.000000  1.571595e+12       0.000000\n",
       "75%         5.000000  1.614647e+12       1.000000\n",
       "max         5.000000  1.694220e+12     646.000000"
      ]
     },
     "execution_count": 5,
     "metadata": {},
     "output_type": "execute_result"
    }
   ],
   "source": [
    "df_amz.describe()"
   ]
  },
  {
   "cell_type": "code",
   "execution_count": 6,
   "id": "e77463fe-79e3-418f-8521-c8a798939913",
   "metadata": {},
   "outputs": [
    {
     "name": "stdout",
     "output_type": "stream",
     "text": [
      "Presencia de datos faltantes por dimensión (en porcentaje):\n",
      "rating               0.0\n",
      "title                0.0\n",
      "text                 0.0\n",
      "images               0.0\n",
      "asin                 0.0\n",
      "parent_asin          0.0\n",
      "user_id              0.0\n",
      "timestamp            0.0\n",
      "helpful_vote         0.0\n",
      "verified_purchase    0.0\n",
      "dtype: float64\n"
     ]
    }
   ],
   "source": [
    "missing_percentage_per_column_sales = (df_amz.isnull().mean() * 100).round(2)\n",
    "print(\"Presencia de datos faltantes por dimensión (en porcentaje):\")\n",
    "print(missing_percentage_per_column_sales)"
   ]
  },
  {
   "cell_type": "code",
   "execution_count": 7,
   "id": "b1d2a3ee-2e27-485b-bab1-3341a178bef5",
   "metadata": {},
   "outputs": [
    {
     "name": "stdout",
     "output_type": "stream",
     "text": [
      "No. Usuarios: 631986\n",
      "No. ASINs: 115709\n"
     ]
    }
   ],
   "source": [
    "n_users = df_amz.user_id.nunique()\n",
    "n_items = df_amz.asin.nunique()\n",
    "\n",
    "print('No. Usuarios: '+ str(n_users))\n",
    "print('No. ASINs: '+str(n_items))"
   ]
  },
  {
   "cell_type": "code",
   "execution_count": 8,
   "id": "ec113e19-b89c-4262-a2e4-ab3230b0a05c",
   "metadata": {},
   "outputs": [
    {
     "name": "stdout",
     "output_type": "stream",
     "text": [
      "El Data Set a estudiar cuenta con 701528 registros de rating de productos adquiridos en Amazon\n"
     ]
    }
   ],
   "source": [
    "print(\"El Data Set a estudiar cuenta con \" + str(len(df_amz)) + \" registros de rating de productos adquiridos en Amazon\")"
   ]
  },
  {
   "cell_type": "markdown",
   "id": "80c83e7e-3a5d-47e0-91e2-9fe7bf989084",
   "metadata": {},
   "source": [
    "Veamos los productos que más veces fue evaludado (con más reseñas) "
   ]
  },
  {
   "cell_type": "code",
   "execution_count": 9,
   "id": "ec4c9eaf-7654-4417-8632-8c924698bc56",
   "metadata": {},
   "outputs": [
    {
     "data": {
      "text/plain": [
       "asin\n",
       "B007IAE5WY    1962\n",
       "B00EEN2HCS    1750\n",
       "B07C533XCW    1513\n",
       "B00R1TAN7I    1372\n",
       "B08L5KN7X4    1343\n",
       "B019GBG0IE    1328\n",
       "B0719KWG8H    1168\n",
       "B0092MCQZ4    1128\n",
       "B0107QYW14    1112\n",
       "B0070Z7KME     934\n",
       "Name: rating, dtype: int64"
      ]
     },
     "execution_count": 9,
     "metadata": {},
     "output_type": "execute_result"
    }
   ],
   "source": [
    "df_amz.groupby('asin')['rating'].count().sort_values(ascending = False).head(10)"
   ]
  },
  {
   "cell_type": "markdown",
   "id": "e771b029-b440-4ef3-9a39-990862630e48",
   "metadata": {},
   "source": [
    "Observamos ahora cuál es el rating promedio de los productos con más evaluaciones"
   ]
  },
  {
   "cell_type": "code",
   "execution_count": 10,
   "id": "040e42b8-db3f-4673-b9b3-d2652a782c40",
   "metadata": {},
   "outputs": [
    {
     "data": {
      "text/html": [
       "<div>\n",
       "<style scoped>\n",
       "    .dataframe tbody tr th:only-of-type {\n",
       "        vertical-align: middle;\n",
       "    }\n",
       "\n",
       "    .dataframe tbody tr th {\n",
       "        vertical-align: top;\n",
       "    }\n",
       "\n",
       "    .dataframe thead th {\n",
       "        text-align: right;\n",
       "    }\n",
       "</style>\n",
       "<table border=\"1\" class=\"dataframe\">\n",
       "  <thead>\n",
       "    <tr style=\"text-align: right;\">\n",
       "      <th></th>\n",
       "      <th>rating</th>\n",
       "      <th>num of ratings</th>\n",
       "    </tr>\n",
       "    <tr>\n",
       "      <th>asin</th>\n",
       "      <th></th>\n",
       "      <th></th>\n",
       "    </tr>\n",
       "  </thead>\n",
       "  <tbody>\n",
       "    <tr>\n",
       "      <th>B007IAE5WY</th>\n",
       "      <td>4.620285</td>\n",
       "      <td>1962</td>\n",
       "    </tr>\n",
       "    <tr>\n",
       "      <th>B00EEN2HCS</th>\n",
       "      <td>4.135429</td>\n",
       "      <td>1750</td>\n",
       "    </tr>\n",
       "    <tr>\n",
       "      <th>B07C533XCW</th>\n",
       "      <td>4.468605</td>\n",
       "      <td>1513</td>\n",
       "    </tr>\n",
       "    <tr>\n",
       "      <th>B00R1TAN7I</th>\n",
       "      <td>4.033528</td>\n",
       "      <td>1372</td>\n",
       "    </tr>\n",
       "    <tr>\n",
       "      <th>B08L5KN7X4</th>\n",
       "      <td>4.015637</td>\n",
       "      <td>1343</td>\n",
       "    </tr>\n",
       "    <tr>\n",
       "      <th>...</th>\n",
       "      <td>...</td>\n",
       "      <td>...</td>\n",
       "    </tr>\n",
       "    <tr>\n",
       "      <th>B07DMD8M5T</th>\n",
       "      <td>4.003215</td>\n",
       "      <td>311</td>\n",
       "    </tr>\n",
       "    <tr>\n",
       "      <th>B078J32XBK</th>\n",
       "      <td>3.874194</td>\n",
       "      <td>310</td>\n",
       "    </tr>\n",
       "    <tr>\n",
       "      <th>B0067BAIM6</th>\n",
       "      <td>4.575163</td>\n",
       "      <td>306</td>\n",
       "    </tr>\n",
       "    <tr>\n",
       "      <th>B08BZNW9NK</th>\n",
       "      <td>4.519737</td>\n",
       "      <td>304</td>\n",
       "    </tr>\n",
       "    <tr>\n",
       "      <th>B01N5CJPSX</th>\n",
       "      <td>4.386139</td>\n",
       "      <td>303</td>\n",
       "    </tr>\n",
       "  </tbody>\n",
       "</table>\n",
       "<p>100 rows × 2 columns</p>\n",
       "</div>"
      ],
      "text/plain": [
       "              rating  num of ratings\n",
       "asin                                \n",
       "B007IAE5WY  4.620285            1962\n",
       "B00EEN2HCS  4.135429            1750\n",
       "B07C533XCW  4.468605            1513\n",
       "B00R1TAN7I  4.033528            1372\n",
       "B08L5KN7X4  4.015637            1343\n",
       "...              ...             ...\n",
       "B07DMD8M5T  4.003215             311\n",
       "B078J32XBK  3.874194             310\n",
       "B0067BAIM6  4.575163             306\n",
       "B08BZNW9NK  4.519737             304\n",
       "B01N5CJPSX  4.386139             303\n",
       "\n",
       "[100 rows x 2 columns]"
      ]
     },
     "execution_count": 10,
     "metadata": {},
     "output_type": "execute_result"
    }
   ],
   "source": [
    "ratings = pd.DataFrame(df_amz.groupby('asin')['rating'].mean())\n",
    "ratings['num of ratings'] = pd.DataFrame(df_amz.groupby('asin')['rating'].count())\n",
    "ratings.sort_values(by = 'num of ratings', ascending = False).head(100)"
   ]
  },
  {
   "cell_type": "code",
   "execution_count": 11,
   "id": "9451b944-9b86-4dfa-8828-73a00d2af7f0",
   "metadata": {},
   "outputs": [
    {
     "name": "stdout",
     "output_type": "stream",
     "text": [
      "Existen 105 productos con al menos 300 evaluaciones\n"
     ]
    }
   ],
   "source": [
    "print('Existen ' + str(len(ratings[ratings['num of ratings']>=300])) + ' productos con al menos 300 evaluaciones')"
   ]
  },
  {
   "cell_type": "code",
   "execution_count": 12,
   "id": "7b1db294-f2ca-41d9-8967-4ee8d1e4b37b",
   "metadata": {},
   "outputs": [
    {
     "data": {
      "image/png": "[encoded data removed]",
      "text/plain": [
       "<Figure size 1000x400 with 1 Axes>"
      ]
     },
     "metadata": {},
     "output_type": "display_data"
    }
   ],
   "source": [
    "plt.figure(figsize = (10,4))\n",
    "ratings[ratings['num of ratings']>300]['num of ratings'].hist(bins = 70)\n",
    "plt.show()"
   ]
  },
  {
   "cell_type": "markdown",
   "id": "e98aa90f-bbfb-4fb7-bc02-3ee1200850c7",
   "metadata": {},
   "source": [
    "La distribución de los ratings observados se ve de la siguiente forma"
   ]
  },
  {
   "cell_type": "code",
   "execution_count": 13,
   "id": "befca2b6-1a14-4d8b-9d42-38d66e47023a",
   "metadata": {},
   "outputs": [
    {
     "data": {
      "image/png": "[encoded data removed]",
      "text/plain": [
       "<Figure size 1000x400 with 1 Axes>"
      ]
     },
     "metadata": {},
     "output_type": "display_data"
    }
   ],
   "source": [
    "plt.figure(figsize = (10,4))\n",
    "ratings['rating'].hist(bins = 70)\n",
    "plt.show()"
   ]
  },
  {
   "cell_type": "code",
   "execution_count": 14,
   "id": "9bca2a43-e0da-470a-860c-70ded5a83ea8",
   "metadata": {},
   "outputs": [
    {
     "data": {
      "image/png": "[encoded data removed]",
      "text/plain": [
       "<Figure size 1000x400 with 1 Axes>"
      ]
     },
     "metadata": {},
     "output_type": "display_data"
    }
   ],
   "source": [
    "plt.figure(figsize = (10,4))\n",
    "sns.boxplot(x = df_amz['rating'])\n",
    "plt.show()"
   ]
  },
  {
   "cell_type": "code",
   "execution_count": 15,
   "id": "6da20cfb-4a90-4eef-ba64-3ad00466f4d5",
   "metadata": {},
   "outputs": [
    {
     "data": {
      "image/png": "[encoded data removed]",
      "text/plain": [
       "<Figure size 1000x400 with 1 Axes>"
      ]
     },
     "metadata": {},
     "output_type": "display_data"
    }
   ],
   "source": [
    "plt.figure(figsize = (10,4))\n",
    "sns.boxplot(x = ratings['num of ratings'])\n",
    "plt.show()"
   ]
  },
  {
   "cell_type": "markdown",
   "id": "20850127-e474-4e14-966d-90d52e6ed6f4",
   "metadata": {},
   "source": [
    "Mientras que para aquellos que tienen más de 300 evaluaciones se ve así"
   ]
  },
  {
   "cell_type": "code",
   "execution_count": 16,
   "id": "19df2a45-d1c4-4b51-a7f0-7ba6ca5a80fe",
   "metadata": {},
   "outputs": [
    {
     "data": {
      "image/png": "[encoded data removed]",
      "text/plain": [
       "<Figure size 1000x400 with 1 Axes>"
      ]
     },
     "metadata": {},
     "output_type": "display_data"
    }
   ],
   "source": [
    "plt.figure(figsize = (10,4))\n",
    "ratings[ratings['num of ratings']>300]['rating'].hist(bins=70)\n",
    "plt.show()"
   ]
  },
  {
   "cell_type": "markdown",
   "id": "d7fb49f8-2b18-459d-a11c-d17f0682dfdf",
   "metadata": {},
   "source": [
    "Se observa que en general la mayoría de los productos con más de 300 evaluaciones tienen ratings por arriba de 3 / 3.5 de calificacación"
   ]
  },
  {
   "cell_type": "markdown",
   "id": "844270bd-f962-4159-bc50-a33a7c74c812",
   "metadata": {},
   "source": [
    "Mientras que para los que tienen menos de 300 evaluaciones se ve así: "
   ]
  },
  {
   "cell_type": "code",
   "execution_count": 17,
   "id": "22d24b16-d387-447b-9b1b-2bf7b8e10697",
   "metadata": {},
   "outputs": [
    {
     "data": {
      "image/png": "[encoded data removed]",
      "text/plain": [
       "<Figure size 1000x400 with 1 Axes>"
      ]
     },
     "metadata": {},
     "output_type": "display_data"
    }
   ],
   "source": [
    "plt.figure(figsize = (10,4))\n",
    "ratings[ratings['num of ratings']<300]['rating'].hist(bins = 70)\n",
    "plt.show()"
   ]
  },
  {
   "cell_type": "code",
   "execution_count": 18,
   "id": "a89aa328-68e0-4ce1-8087-aa59a5640323",
   "metadata": {},
   "outputs": [
    {
     "data": {
      "text/plain": [
       "<Axes: xlabel='rating'>"
      ]
     },
     "execution_count": 18,
     "metadata": {},
     "output_type": "execute_result"
    },
    {
     "data": {
      "image/png": "[encoded data removed]",
      "text/plain": [
       "<Figure size 1000x400 with 1 Axes>"
      ]
     },
     "metadata": {},
     "output_type": "display_data"
    }
   ],
   "source": [
    "plt.figure(figsize=(10,4))\n",
    "sns.boxplot(x = df_amz['rating'])"
   ]
  },
  {
   "cell_type": "code",
   "execution_count": 19,
   "id": "7592ce7a-b02a-40fa-bc2a-653602cf6841",
   "metadata": {},
   "outputs": [
    {
     "data": {
      "text/plain": [
       "<Figure size 1000x400 with 0 Axes>"
      ]
     },
     "metadata": {},
     "output_type": "display_data"
    },
    {
     "data": {
      "image/png": "[encoded data removed]",
      "text/plain": [
       "<Figure size 600x600 with 3 Axes>"
      ]
     },
     "metadata": {},
     "output_type": "display_data"
    }
   ],
   "source": [
    "plt.figure(figsize = (10,4))\n",
    "sns.jointplot(x = 'rating', y = 'num of ratings', data = ratings, alpha = 0.5)\n",
    "plt.show()"
   ]
  },
  {
   "cell_type": "code",
   "execution_count": 20,
   "id": "a3276246-7898-4f7f-923e-9f32fbd3c189",
   "metadata": {},
   "outputs": [
    {
     "data": {
      "image/png": "[encoded data removed]",
      "text/plain": [
       "<Figure size 1000x400 with 2 Axes>"
      ]
     },
     "metadata": {},
     "output_type": "display_data"
    }
   ],
   "source": [
    "plt.figure(figsize = (10,4))\n",
    "num_corr_matrix = ratings.corr()\n",
    "ax = sns.heatmap(num_corr_matrix, annot = True)\n",
    "plt.show()"
   ]
  },
  {
   "cell_type": "markdown",
   "id": "323b26fe-f61e-4675-8f60-a30a631a96aa",
   "metadata": {},
   "source": [
    "## Memory-Based Collaborative Filtering (Tradicional)"
   ]
  },
  {
   "cell_type": "markdown",
   "id": "392de7d5-d45f-41da-ba92-1383ed37f083",
   "metadata": {},
   "source": [
    "Los enfoques de filtrado colaborativo basado en memoria se pueden dividir en dos secciones principales: filtrado usuario-artículo y filtrado artículo-artículo.Un filtrado usuario-usuario tomará un usuario en particular, encontrará usuarios que sean similares a ese usuario basándose en la similitud de las calificaciones y recomendará artículos que esos usuarios similares hayan gustado. En contraste, el filtrado artículo-artículo tomará un artículo, encontrará usuarios a los que les haya gustado ese artículo y encontrará otros artículos que esos usuarios o usuarios similares también hayan gustado. Toma artículos y proporciona otros artículos como recomendaciones.\n",
    "\n",
    "Filtrado Colaborativo Artículo-Artículo: “A los usuarios que les gustó este Artículos también les gustó…”\n",
    "\n",
    "Filtrado Colaborativo Usuario-Artículo: “A los usuarios que son similares a ti también les gustó…”\n",
    "\n",
    "En ambos caso, se crea una matriz usuario-artículo del dataset completo.\n",
    "\n",
    "Una métrica de distancia comúnmente utilizada en los sistemas de recomendación es la similitud del coseno, donde las calificaciones se ven como vectores en un espacio de n dimensiones y la similitud se calcula en función del ángulo entre estos vectores. La similitud del coseno para los usuarios a y m se puede calcular utilizando la fórmula a continuación, donde se toma el producto punto del vector de usuario $u_k$ y el vector de usuario $u_a$ y se divide por la multiplicación de las longitudes euclidianas de los vectores.\n",
    "\n",
    "<img class=\"aligncenter size-thumbnail img-responsive\" src=\"https://latex.codecogs.com/gif.latex?s_u^{cos}(u_k,u_a)=\\frac{u_k&space;\\cdot&space;u_a&space;}{&space;\\left&space;\\|&space;u_k&space;\\right&space;\\|&space;\\left&space;\\|&space;u_a&space;\\right&space;\\|&space;}&space;=\\frac{\\sum&space;x_{k,m}x_{a,m}}{\\sqrt{\\sum&space;x_{k,m}^2\\sum&space;x_{a,m}^2}}\"/>\n",
    "\n",
    "\n",
    "Para calcular la similitud entre los artículos m y b se utiliza la fórmula:\n",
    "\n",
    "<img class=\"aligncenter size-thumbnail img-responsive\" src=\"https://latex.codecogs.com/gif.latex?s_u^{cos}(i_m,i_b)=\\frac{i_m&space;\\cdot&space;i_b&space;}{&space;\\left&space;\\|&space;i_m&space;\\right&space;\\|&space;\\left&space;\\|&space;i_b&space;\\right&space;\\|&space;}&space;=\\frac{\\sum&space;x_{a,m}x_{a,b}}{\\sqrt{\\sum&space;x_{a,m}^2\\sum&space;x_{a,b}^2}}\n",
    "\"/>\n",
    "\n",
    "Dado que la matriz original [631986 x 115709] (todos los usuarios por todos los articulos), requiere altos niveles de computo utilizaremos una versión reducida para demostrar como funciona un modelo de recomendación normal."
   ]
  },
  {
   "cell_type": "code",
   "execution_count": 21,
   "id": "d39b3f27-b93c-4283-91cf-94ea9475581c",
   "metadata": {},
   "outputs": [],
   "source": [
    "df_amz_red = df_amz[['user_id','asin','rating']].copy()"
   ]
  },
  {
   "cell_type": "code",
   "execution_count": 22,
   "id": "ca241ec8-42ac-42ad-9a00-204c8c539a96",
   "metadata": {},
   "outputs": [],
   "source": [
    "df_sample = df_amz_red.sample(frac = 0.05, replace=False, random_state = 1234)"
   ]
  },
  {
   "cell_type": "code",
   "execution_count": 23,
   "id": "d664d703-a610-49b4-bd00-a28a66b2f09c",
   "metadata": {},
   "outputs": [],
   "source": [
    "train_data, test_data = train_test_split(df_sample, test_size = 0.25)"
   ]
  },
  {
   "cell_type": "code",
   "execution_count": 24,
   "id": "791f9d4f-d4c8-4ce8-a748-3b82a3d21a3b",
   "metadata": {},
   "outputs": [
    {
     "name": "stdout",
     "output_type": "stream",
     "text": [
      "Pandas(Index=510686, user_id='AFHE4JKFOUFC2UXJPS3MLBXBYK6Q', asin='B07Q6R1119', rating=5.0)\n",
      "Pandas(Index=185118, user_id='AGHARDL7VX2E54JV5MKYYKMFJIKA', asin='B07NY6619X', rating=1.0)\n",
      "Pandas(Index=264827, user_id='AGNUXFQ5L2YHYHBJVOTVQKCX6ZWA', asin='B089DQTSFB', rating=5.0)\n",
      "Pandas(Index=329943, user_id='AEGJUIBRMHJIR3J7JRWALK7S23FA', asin='B08R1BWJ8F', rating=5.0)\n",
      "Pandas(Index=315146, user_id='AG3XOWH3GRMJK3CYLMYZIQNRS4CQ', asin='B01HOMLTYM', rating=4.0)\n"
     ]
    }
   ],
   "source": [
    "for line in itertools.islice(train_data.itertuples(), 5):\n",
    "    print(line)"
   ]
  },
  {
   "cell_type": "code",
   "execution_count": 25,
   "id": "543badf3-9720-4644-867f-a2ce85f0ee2b",
   "metadata": {},
   "outputs": [],
   "source": [
    "unique_users = train_data['user_id'].unique()\n",
    "unique_items = train_data['asin'].unique()\n",
    "\n",
    "n_users_red = len(unique_users)\n",
    "n_items_red = len(unique_items)\n",
    "\n",
    "user_to_index = {user_id: idx for idx, user_id in enumerate(unique_users)}\n",
    "item_to_index = {item_id: idx for idx, item_id in enumerate(unique_items)}"
   ]
  },
  {
   "cell_type": "code",
   "execution_count": 26,
   "id": "2d0e7276-02ab-4c5d-a4c7-8f865c12f2b0",
   "metadata": {},
   "outputs": [],
   "source": [
    "train_data_matrix = np.zeros((n_users_red, n_items_red))\n",
    "test_data_matrix = np.zeros((n_users_red, n_items_red))\n",
    "\n",
    "for line in train_data.itertuples(index = False):\n",
    "    user = user_to_index[line[train_data.columns.get_loc('user_id')]]\n",
    "    item = item_to_index[line[train_data.columns.get_loc('asin')]]\n",
    "    rating = float(line[train_data.columns.get_loc('rating')])\n",
    "    train_data_matrix[user, item] = rating\n",
    "\n",
    "for line in test_data.itertuples(index = False):\n",
    "    user_id = line[test_data.columns.get_loc('user_id')]\n",
    "    item_id = line[test_data.columns.get_loc('asin')]\n",
    "    if user_id in user_to_index and item_id in item_to_index:\n",
    "        user = user_to_index[user_id]\n",
    "        item = item_to_index[item_id]\n",
    "        rating = float(line[test_data.columns.get_loc('rating')])\n",
    "        test_data_matrix[user, item] = rating"
   ]
  },
  {
   "cell_type": "code",
   "execution_count": 27,
   "id": "f2752e9b-abd9-41b7-bfcd-76cfa904f49d",
   "metadata": {},
   "outputs": [],
   "source": [
    "user_similarity = pairwise_distances(train_data_matrix, metric = 'cosine')\n",
    "item_similarity = pairwise_distances(train_data_matrix.T, metric = 'cosine')"
   ]
  },
  {
   "cell_type": "markdown",
   "id": "bcd7d7f9-4b6c-4b29-8633-f1ba1b7bf51c",
   "metadata": {},
   "source": [
    "El siguiente paso es hacer predicciones. Con las matrices de similitud (user_similarity y item_similarity) por lo tanto se pueden hacer una predicción aplicando la siguiente fórmula para la filtración colaborativa basada en usuarios\n",
    "\n",
    "\n",
    "<img class=\"aligncenter size-thumbnail img-responsive\" src=\"https://latex.codecogs.com/gif.latex?\\hat{x}_{k,m}&space;=&space;\\bar{x}_{k}&space;&plus;&space;\\frac{\\sum\\limits_{u_a}&space;sim_u(u_k,&space;u_a)&space;(x_{a,m}&space;-&space;\\bar{x_{u_a}})}{\\sum\\limits_{u_a}|sim_u(u_k,&space;u_a)|}\"/>\n",
    "\n",
    "Se puede determinar la similitud entre los usuarios ky a como pesos que se multiplican por las calificaciones de un usuario similar a (corregido por la calificación promedio de ese usuario). Este se deberá de normalizar para que las calificaciones se mantengan entre 1 y 5 y, como paso final, sumar las calificaciones promedio para el usuario al que estás tratando de predecir.La idea aquí es que algunos usuarios pueden tender siempre a dar calificaciones altas o bajas a todos los artículos. \n",
    "\n",
    "La diferencia relativa en las calificaciones que estos usuarios dan es más importante que los valores absolutos. Para dar un ejemplo: supongamos que el usuario k da 4 estrellas a sus artículos favoritos y 3 estrellas al resto. Supongamos ahora que otro usuario t califica los artículos que le gustan con 5 estrellas, y los que no le gustaron con 3 estrellas. Estos dos usuarios podrían tener un gusto muy similar pero tratar el sistema de calificación de manera diferente. Al hacer una predicción para la filtración colaborativa basada en artículos no se necesita corregir la calificación promedio de los usuarios ya que el usuario de consulta en sí mismo se usa para hacer las predicciones.\n",
    "\n",
    "<img class=\"aligncenter size-thumbnail img-responsive\" src=\"https://latex.codecogs.com/gif.latex?\\hat{x}_{k,m}&space;=&space;\\frac{\\sum\\limits_{i_b}&space;sim_i(i_m,&space;i_b)&space;(x_{k,b})&space;}{\\sum\\limits_{i_b}|sim_i(i_m,&space;i_b)|}\"/>"
   ]
  },
  {
   "cell_type": "code",
   "execution_count": 28,
   "id": "03c306b3-8a18-446a-85f2-961b5e7b056c",
   "metadata": {},
   "outputs": [],
   "source": [
    "def predict(ratings, similarity, type = 'user'):\n",
    "    if type == 'user':\n",
    "        mean_user_rating = ratings.mean(axis=1)\n",
    "        ratings_diff = (ratings - mean_user_rating[:, np.newaxis]) \n",
    "        pred = mean_user_rating[:, np.newaxis] + similarity.dot(ratings_diff) / np.array([np.abs(similarity).sum(axis=1)]).T\n",
    "    elif type == 'item':\n",
    "        pred = ratings.dot(similarity) / np.array([np.abs(similarity).sum(axis=1)])     \n",
    "    return pred"
   ]
  },
  {
   "cell_type": "code",
   "execution_count": 29,
   "id": "3bea5ba2-aeec-4e30-9332-92509ada514a",
   "metadata": {},
   "outputs": [],
   "source": [
    "item_prediction = predict(train_data_matrix, item_similarity, type = 'item')\n",
    "user_prediction = predict(train_data_matrix, user_similarity, type = 'user')"
   ]
  },
  {
   "cell_type": "markdown",
   "id": "b234ce07-3849-42ee-b2da-4764f1cb566e",
   "metadata": {},
   "source": [
    "Existen muchas métricas de evaluación, pero una de las métricas más populares utilizadas para evaluar la precisión de las calificaciones predichas es el Error Cuadrático Medio (RMSE).\n",
    "\n",
    "<img src=\"https://latex.codecogs.com/gif.latex?RMSE&space;=\\sqrt{\\frac{1}{N}&space;\\sum&space;(x_i&space;-\\hat{x_i})^2}\" title=\"RMSE =\\sqrt{\\frac{1}{N} \\sum (x_i -\\hat{x_i})^2}\" />"
   ]
  },
  {
   "cell_type": "code",
   "execution_count": 30,
   "id": "d5b41cb5-633a-467a-ab89-97afeea8791f",
   "metadata": {},
   "outputs": [],
   "source": [
    "def rmse(prediction, ground_truth):\n",
    "    prediction = prediction[ground_truth.nonzero()].flatten() \n",
    "    ground_truth = ground_truth[ground_truth.nonzero()].flatten()\n",
    "    return sqrt(mean_squared_error(prediction, ground_truth))"
   ]
  },
  {
   "cell_type": "code",
   "execution_count": 31,
   "id": "53cde12e-00cc-46d2-97c6-ba764cdbc173",
   "metadata": {},
   "outputs": [
    {
     "name": "stdout",
     "output_type": "stream",
     "text": [
      "User-based CF RMSE: 4.340807494452539\n",
      "Item-based CF RMSE: 4.341074848191789\n"
     ]
    }
   ],
   "source": [
    "print('User-based CF RMSE: ' + str(rmse(user_prediction, test_data_matrix)))\n",
    "print('Item-based CF RMSE: ' + str(rmse(item_prediction, test_data_matrix)))"
   ]
  },
  {
   "cell_type": "code",
   "execution_count": 32,
   "id": "29487e0a-30d9-43f0-961e-94120a3af3ae",
   "metadata": {},
   "outputs": [],
   "source": [
    "def get_top_n_recommendations(user_id, user_prediction, item_prediction, n = 10):\n",
    "    if user_id not in user_to_index:\n",
    "        return []\n",
    "    \n",
    "    user_idx = user_to_index[user_id]\n",
    "    user_ratings = user_prediction[user_idx]\n",
    "    item_ratings = item_prediction[:, user_idx]\n",
    "    \n",
    "    user_top_n_items = user_ratings.argsort()[-n:][::-1]\n",
    "    item_top_n_items = item_ratings.argsort()[-n:][::-1]\n",
    "    \n",
    "    combined_top_n_items = np.unique(np.concatenate((user_top_n_items, item_top_n_items)))\n",
    "    top_n_items = combined_top_n_items[:n] \n",
    "    \n",
    "    index_to_item = {idx: item_id for item_id, idx in item_to_index.items()}\n",
    "    top_n_item_ids = [index_to_item[idx] for idx in top_n_items]\n",
    "    \n",
    "    return top_n_item_ids"
   ]
  },
  {
   "cell_type": "code",
   "execution_count": 33,
   "id": "f51f3e32-8e81-42d3-9eff-234063fdd4e7",
   "metadata": {},
   "outputs": [
    {
     "name": "stdout",
     "output_type": "stream",
     "text": [
      "Top 10 recommendations for user AFHE4JKFOUFC2UXJPS3MLBXBYK6Q: ['B07C533XCW', 'B019GBG0IE', 'B08L5KN7X4', 'B0719KWG8H', 'B0092MCQZ4', 'B00R1TAN7I', 'B00EEN2HCS', 'B0107QYW14', 'B07X8W7GJZ', 'B007IAE5WY']\n"
     ]
    }
   ],
   "source": [
    "user_id = unique_users[0] \n",
    "top_n_recommendations = get_top_n_recommendations(user_id, user_prediction, item_prediction, n = 10)\n",
    "print(f\"Top 10 recommendations for user {user_id}: {top_n_recommendations}\")"
   ]
  }
 ],
 "metadata": {
  "kernelspec": {
   "display_name": "Python 3 (ipykernel)",
   "language": "python",
   "name": "python3"
  },
  "language_info": {
   "codemirror_mode": {
    "name": "ipython",
    "version": 3
   },
   "file_extension": ".py",
   "mimetype": "text/x-python",
   "name": "python",
   "nbconvert_exporter": "python",
   "pygments_lexer": "ipython3",
   "version": "3.11.8"
  }
 },
 "nbformat": 4,
 "nbformat_minor": 5
}

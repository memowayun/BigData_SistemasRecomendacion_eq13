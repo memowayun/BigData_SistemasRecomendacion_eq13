{
 "cells": [
  {
   "cell_type": "markdown",
   "metadata": {},
   "source": [
    "# BigData_SistemasRecomendacion_eq13\n",
    "\n",
    "**Tecnológico de Monterrey**\n",
    "**Maestría en Inteligencia Artificial Aplicada (MNA)**\n",
    "\n",
    "**Materia: Big Data**\n",
    "\n",
    "## Proyecto de Big Data sobre Sistemas de Recomendación. \n",
    "\n",
    "Miembros del equipo: \n",
    "\n",
    "Hansel Zapiain Rodriguez (A00469031)\n",
    "\n",
    "Miguel Guillermo Galindo Orozco (A01793695) \n",
    "\n",
    "Francisco José Arellano Montes (A01794283)\n"
   ]
  },
  {
   "cell_type": "markdown",
   "metadata": {},
   "source": [
    "# Avance de proyecto 1: Sistema de Recomendación "
   ]
  },
  {
   "cell_type": "markdown",
   "metadata": {},
   "source": [
    "# Importar Librerías "
   ]
  },
  {
   "cell_type": "code",
   "execution_count": 86,
   "metadata": {},
   "outputs": [],
   "source": [
    "from datasets import load_dataset\n",
    "import pandas as pd\n",
    "from sklearn.model_selection import train_test_split\n",
    "import numpy as np\n",
    "from scipy.sparse import csr_matrix\n",
    "#import sklearn\n",
    "from sklearn.neighbors import NearestNeighbors"
   ]
  },
  {
   "cell_type": "code",
   "execution_count": 87,
   "metadata": {},
   "outputs": [],
   "source": [
    "import matplotlib.pyplot as plt\n",
    "import seaborn as sns\n",
    "sns.set_style('white')\n",
    "%matplotlib inline"
   ]
  },
  {
   "cell_type": "code",
   "execution_count": 88,
   "metadata": {},
   "outputs": [
    {
     "name": "stdout",
     "output_type": "stream",
     "text": [
      "{'rating': 5.0, 'title': 'Such a lovely scent but not overpowering.', 'text': \"This spray is really nice. It smells really good, goes on really fine, and does the trick. I will say it feels like you need a lot of it though to get the texture I want. I have a lot of hair, medium thickness. I am comparing to other brands with yucky chemicals so I'm gonna stick with this. Try it!\", 'images': [], 'asin': 'B00YQ6X8EO', 'parent_asin': 'B00YQ6X8EO', 'user_id': 'AGKHLEW2SOWHNMFQIJGBECAF7INQ', 'timestamp': 1588687728923, 'helpful_vote': 0, 'verified_purchase': True}\n"
     ]
    }
   ],
   "source": [
    "dataset = load_dataset(\"McAuley-Lab/Amazon-Reviews-2023\", \"raw_review_All_Beauty\", trust_remote_code=True)\n",
    "print(dataset[\"full\"][0])\n"
   ]
  },
  {
   "cell_type": "code",
   "execution_count": 89,
   "metadata": {},
   "outputs": [
    {
     "data": {
      "text/plain": [
       "DatasetDict({\n",
       "    full: Dataset({\n",
       "        features: ['rating', 'title', 'text', 'images', 'asin', 'parent_asin', 'user_id', 'timestamp', 'helpful_vote', 'verified_purchase'],\n",
       "        num_rows: 701528\n",
       "    })\n",
       "})"
      ]
     },
     "execution_count": 89,
     "metadata": {},
     "output_type": "execute_result"
    }
   ],
   "source": [
    "dataset"
   ]
  },
  {
   "cell_type": "code",
   "execution_count": 90,
   "metadata": {},
   "outputs": [
    {
     "data": {
      "text/plain": [
       "datasets.dataset_dict.DatasetDict"
      ]
     },
     "execution_count": 90,
     "metadata": {},
     "output_type": "execute_result"
    }
   ],
   "source": [
    "type(dataset)"
   ]
  },
  {
   "cell_type": "code",
   "execution_count": 91,
   "metadata": {},
   "outputs": [],
   "source": [
    "#dataset[\"full\"][0:10]"
   ]
  },
  {
   "cell_type": "code",
   "execution_count": 92,
   "metadata": {},
   "outputs": [],
   "source": [
    "df = pd.DataFrame.from_dict(dataset[\"full\"])"
   ]
  },
  {
   "cell_type": "code",
   "execution_count": 93,
   "metadata": {},
   "outputs": [
    {
     "name": "stdout",
     "output_type": "stream",
     "text": [
      "rating\n",
      "title\n",
      "text\n",
      "images\n",
      "asin\n",
      "parent_asin\n",
      "user_id\n",
      "timestamp\n",
      "helpful_vote\n",
      "verified_purchase\n"
     ]
    }
   ],
   "source": [
    "for i in df.columns:\n",
    "    print(i)"
   ]
  },
  {
   "cell_type": "code",
   "execution_count": 94,
   "metadata": {},
   "outputs": [
    {
     "data": {
      "text/html": [
       "<div>\n",
       "<style scoped>\n",
       "    .dataframe tbody tr th:only-of-type {\n",
       "        vertical-align: middle;\n",
       "    }\n",
       "\n",
       "    .dataframe tbody tr th {\n",
       "        vertical-align: top;\n",
       "    }\n",
       "\n",
       "    .dataframe thead th {\n",
       "        text-align: right;\n",
       "    }\n",
       "</style>\n",
       "<table border=\"1\" class=\"dataframe\">\n",
       "  <thead>\n",
       "    <tr style=\"text-align: right;\">\n",
       "      <th></th>\n",
       "      <th>asin</th>\n",
       "      <th>parent_asin</th>\n",
       "      <th>user_id</th>\n",
       "      <th>rating</th>\n",
       "      <th>helpful_vote</th>\n",
       "      <th>verified_purchase</th>\n",
       "    </tr>\n",
       "  </thead>\n",
       "  <tbody>\n",
       "    <tr>\n",
       "      <th>0</th>\n",
       "      <td>B00YQ6X8EO</td>\n",
       "      <td>B00YQ6X8EO</td>\n",
       "      <td>AGKHLEW2SOWHNMFQIJGBECAF7INQ</td>\n",
       "      <td>5.0</td>\n",
       "      <td>0</td>\n",
       "      <td>True</td>\n",
       "    </tr>\n",
       "    <tr>\n",
       "      <th>1</th>\n",
       "      <td>B081TJ8YS3</td>\n",
       "      <td>B081TJ8YS3</td>\n",
       "      <td>AGKHLEW2SOWHNMFQIJGBECAF7INQ</td>\n",
       "      <td>4.0</td>\n",
       "      <td>1</td>\n",
       "      <td>True</td>\n",
       "    </tr>\n",
       "    <tr>\n",
       "      <th>2</th>\n",
       "      <td>B07PNNCSP9</td>\n",
       "      <td>B097R46CSY</td>\n",
       "      <td>AE74DYR3QUGVPZJ3P7RFWBGIX7XQ</td>\n",
       "      <td>5.0</td>\n",
       "      <td>2</td>\n",
       "      <td>True</td>\n",
       "    </tr>\n",
       "    <tr>\n",
       "      <th>3</th>\n",
       "      <td>B09JS339BZ</td>\n",
       "      <td>B09JS339BZ</td>\n",
       "      <td>AFQLNQNQYFWQZPJQZS6V3NZU4QBQ</td>\n",
       "      <td>1.0</td>\n",
       "      <td>0</td>\n",
       "      <td>True</td>\n",
       "    </tr>\n",
       "    <tr>\n",
       "      <th>4</th>\n",
       "      <td>B08BZ63GMJ</td>\n",
       "      <td>B08BZ63GMJ</td>\n",
       "      <td>AFQLNQNQYFWQZPJQZS6V3NZU4QBQ</td>\n",
       "      <td>5.0</td>\n",
       "      <td>0</td>\n",
       "      <td>True</td>\n",
       "    </tr>\n",
       "    <tr>\n",
       "      <th>5</th>\n",
       "      <td>B00R8DXL44</td>\n",
       "      <td>B00R8DXL44</td>\n",
       "      <td>AGMJ3EMDVL6OWBJF7CA5RGJLXN5A</td>\n",
       "      <td>4.0</td>\n",
       "      <td>0</td>\n",
       "      <td>True</td>\n",
       "    </tr>\n",
       "    <tr>\n",
       "      <th>6</th>\n",
       "      <td>B099DRHW5V</td>\n",
       "      <td>B099DRHW5V</td>\n",
       "      <td>AHREXOGQPZDA6354MHH4ETSF3MCQ</td>\n",
       "      <td>5.0</td>\n",
       "      <td>0</td>\n",
       "      <td>True</td>\n",
       "    </tr>\n",
       "    <tr>\n",
       "      <th>7</th>\n",
       "      <td>B088SZDGXG</td>\n",
       "      <td>B08BBQ29N5</td>\n",
       "      <td>AEYORY2AVPMCPDV57CE337YU5LXA</td>\n",
       "      <td>3.0</td>\n",
       "      <td>0</td>\n",
       "      <td>True</td>\n",
       "    </tr>\n",
       "    <tr>\n",
       "      <th>8</th>\n",
       "      <td>B08P2DZB4X</td>\n",
       "      <td>B08P2DZB4X</td>\n",
       "      <td>AFSKPY37N3C43SOI5IEXEK5JSIYA</td>\n",
       "      <td>5.0</td>\n",
       "      <td>0</td>\n",
       "      <td>False</td>\n",
       "    </tr>\n",
       "    <tr>\n",
       "      <th>9</th>\n",
       "      <td>B086QY6T7N</td>\n",
       "      <td>B086QY6T7N</td>\n",
       "      <td>AFSKPY37N3C43SOI5IEXEK5JSIYA</td>\n",
       "      <td>5.0</td>\n",
       "      <td>0</td>\n",
       "      <td>False</td>\n",
       "    </tr>\n",
       "  </tbody>\n",
       "</table>\n",
       "</div>"
      ],
      "text/plain": [
       "         asin parent_asin                       user_id  rating  helpful_vote   \n",
       "0  B00YQ6X8EO  B00YQ6X8EO  AGKHLEW2SOWHNMFQIJGBECAF7INQ     5.0             0  \\\n",
       "1  B081TJ8YS3  B081TJ8YS3  AGKHLEW2SOWHNMFQIJGBECAF7INQ     4.0             1   \n",
       "2  B07PNNCSP9  B097R46CSY  AE74DYR3QUGVPZJ3P7RFWBGIX7XQ     5.0             2   \n",
       "3  B09JS339BZ  B09JS339BZ  AFQLNQNQYFWQZPJQZS6V3NZU4QBQ     1.0             0   \n",
       "4  B08BZ63GMJ  B08BZ63GMJ  AFQLNQNQYFWQZPJQZS6V3NZU4QBQ     5.0             0   \n",
       "5  B00R8DXL44  B00R8DXL44  AGMJ3EMDVL6OWBJF7CA5RGJLXN5A     4.0             0   \n",
       "6  B099DRHW5V  B099DRHW5V  AHREXOGQPZDA6354MHH4ETSF3MCQ     5.0             0   \n",
       "7  B088SZDGXG  B08BBQ29N5  AEYORY2AVPMCPDV57CE337YU5LXA     3.0             0   \n",
       "8  B08P2DZB4X  B08P2DZB4X  AFSKPY37N3C43SOI5IEXEK5JSIYA     5.0             0   \n",
       "9  B086QY6T7N  B086QY6T7N  AFSKPY37N3C43SOI5IEXEK5JSIYA     5.0             0   \n",
       "\n",
       "   verified_purchase  \n",
       "0               True  \n",
       "1               True  \n",
       "2               True  \n",
       "3               True  \n",
       "4               True  \n",
       "5               True  \n",
       "6               True  \n",
       "7               True  \n",
       "8              False  \n",
       "9              False  "
      ]
     },
     "execution_count": 94,
     "metadata": {},
     "output_type": "execute_result"
    }
   ],
   "source": [
    "df = df[['asin','parent_asin','user_id','rating','helpful_vote','verified_purchase']]\n",
    "df.head(10)"
   ]
  },
  {
   "cell_type": "markdown",
   "metadata": {},
   "source": [
    "# EDA"
   ]
  },
  {
   "cell_type": "code",
   "execution_count": 95,
   "metadata": {},
   "outputs": [
    {
     "name": "stdout",
     "output_type": "stream",
     "text": [
      "El Data Set a estudiar cuenta con 701528 registros de rating de productos adquiridos en Amazon\n"
     ]
    }
   ],
   "source": [
    "print(\"El Data Set a estudiar cuenta con \" + str(len(df)) + \" registros de rating de productos adquiridos en Amazon\")"
   ]
  },
  {
   "cell_type": "code",
   "execution_count": 96,
   "metadata": {},
   "outputs": [
    {
     "name": "stdout",
     "output_type": "stream",
     "text": [
      "Son 112565 productos distintos (parent_asin)\n"
     ]
    }
   ],
   "source": [
    "#df['parent_asin'].nunique()\n",
    "print(\"Son \" + str(df['parent_asin'].nunique()) + \" productos distintos (parent_asin)\")"
   ]
  },
  {
   "cell_type": "code",
   "execution_count": 97,
   "metadata": {},
   "outputs": [
    {
     "name": "stdout",
     "output_type": "stream",
     "text": [
      "De  631986 usuarios distintos que dejaron su evaluación\n"
     ]
    }
   ],
   "source": [
    "print(\"De  \" + str(df['user_id'].nunique()) + \" usuarios distintos que dejaron su evaluación\")"
   ]
  },
  {
   "cell_type": "markdown",
   "metadata": {},
   "source": [
    "Veamos los productos que más veces fue evaludado (con más reseñas) "
   ]
  },
  {
   "cell_type": "code",
   "execution_count": 98,
   "metadata": {},
   "outputs": [
    {
     "data": {
      "text/plain": [
       "parent_asin\n",
       "B085BB7B1M    1962\n",
       "B0BM4GX6TT    1750\n",
       "B07C533XCW    1513\n",
       "B09X9BG4FC    1374\n",
       "B00R1TAN7I    1372\n",
       "B08L5KN7X4    1343\n",
       "B019GBG0IE    1328\n",
       "B01M1OFZOG    1243\n",
       "B0C9CWKY9G    1153\n",
       "B0107QYW14    1112\n",
       "Name: rating, dtype: int64"
      ]
     },
     "execution_count": 98,
     "metadata": {},
     "output_type": "execute_result"
    }
   ],
   "source": [
    "df.groupby('parent_asin')['rating'].count().sort_values(ascending=False).head(10)"
   ]
  },
  {
   "cell_type": "markdown",
   "metadata": {},
   "source": [
    "Observamos ahora cuál es el rating promedio de los productos con más evaluaciones"
   ]
  },
  {
   "cell_type": "code",
   "execution_count": 99,
   "metadata": {},
   "outputs": [
    {
     "data": {
      "text/html": [
       "<div>\n",
       "<style scoped>\n",
       "    .dataframe tbody tr th:only-of-type {\n",
       "        vertical-align: middle;\n",
       "    }\n",
       "\n",
       "    .dataframe tbody tr th {\n",
       "        vertical-align: top;\n",
       "    }\n",
       "\n",
       "    .dataframe thead th {\n",
       "        text-align: right;\n",
       "    }\n",
       "</style>\n",
       "<table border=\"1\" class=\"dataframe\">\n",
       "  <thead>\n",
       "    <tr style=\"text-align: right;\">\n",
       "      <th></th>\n",
       "      <th>rating</th>\n",
       "      <th>num of ratings</th>\n",
       "    </tr>\n",
       "    <tr>\n",
       "      <th>parent_asin</th>\n",
       "      <th></th>\n",
       "      <th></th>\n",
       "    </tr>\n",
       "  </thead>\n",
       "  <tbody>\n",
       "    <tr>\n",
       "      <th>B085BB7B1M</th>\n",
       "      <td>4.620285</td>\n",
       "      <td>1962</td>\n",
       "    </tr>\n",
       "    <tr>\n",
       "      <th>B0BM4GX6TT</th>\n",
       "      <td>4.135429</td>\n",
       "      <td>1750</td>\n",
       "    </tr>\n",
       "    <tr>\n",
       "      <th>B07C533XCW</th>\n",
       "      <td>4.468605</td>\n",
       "      <td>1513</td>\n",
       "    </tr>\n",
       "    <tr>\n",
       "      <th>B09X9BG4FC</th>\n",
       "      <td>4.496361</td>\n",
       "      <td>1374</td>\n",
       "    </tr>\n",
       "    <tr>\n",
       "      <th>B00R1TAN7I</th>\n",
       "      <td>4.033528</td>\n",
       "      <td>1372</td>\n",
       "    </tr>\n",
       "    <tr>\n",
       "      <th>...</th>\n",
       "      <td>...</td>\n",
       "      <td>...</td>\n",
       "    </tr>\n",
       "    <tr>\n",
       "      <th>B07K1DRCYR</th>\n",
       "      <td>4.098802</td>\n",
       "      <td>334</td>\n",
       "    </tr>\n",
       "    <tr>\n",
       "      <th>B00BN9PFUW</th>\n",
       "      <td>4.110092</td>\n",
       "      <td>327</td>\n",
       "    </tr>\n",
       "    <tr>\n",
       "      <th>B01LAV3O6E</th>\n",
       "      <td>3.374233</td>\n",
       "      <td>326</td>\n",
       "    </tr>\n",
       "    <tr>\n",
       "      <th>B07VKZYXYJ</th>\n",
       "      <td>4.030864</td>\n",
       "      <td>324</td>\n",
       "    </tr>\n",
       "    <tr>\n",
       "      <th>B0009MFUOA</th>\n",
       "      <td>3.987616</td>\n",
       "      <td>323</td>\n",
       "    </tr>\n",
       "  </tbody>\n",
       "</table>\n",
       "<p>100 rows × 2 columns</p>\n",
       "</div>"
      ],
      "text/plain": [
       "               rating  num of ratings\n",
       "parent_asin                          \n",
       "B085BB7B1M   4.620285            1962\n",
       "B0BM4GX6TT   4.135429            1750\n",
       "B07C533XCW   4.468605            1513\n",
       "B09X9BG4FC   4.496361            1374\n",
       "B00R1TAN7I   4.033528            1372\n",
       "...               ...             ...\n",
       "B07K1DRCYR   4.098802             334\n",
       "B00BN9PFUW   4.110092             327\n",
       "B01LAV3O6E   3.374233             326\n",
       "B07VKZYXYJ   4.030864             324\n",
       "B0009MFUOA   3.987616             323\n",
       "\n",
       "[100 rows x 2 columns]"
      ]
     },
     "execution_count": 99,
     "metadata": {},
     "output_type": "execute_result"
    }
   ],
   "source": [
    "ratings = pd.DataFrame(df.groupby('parent_asin')['rating'].mean())\n",
    "ratings['num of ratings'] = pd.DataFrame(df.groupby('parent_asin')['rating'].count())\n",
    "#ratings.head()\n",
    "ratings.sort_values(by='num of ratings', ascending=False).head(100)"
   ]
  },
  {
   "cell_type": "markdown",
   "metadata": {},
   "source": [
    "Cuántos productos existen con más de 300 evaluaciones"
   ]
  },
  {
   "cell_type": "code",
   "execution_count": 100,
   "metadata": {},
   "outputs": [
    {
     "name": "stdout",
     "output_type": "stream",
     "text": [
      "Existen  124 productos con al menos 300 evaluaciones\n"
     ]
    }
   ],
   "source": [
    "print(\"Existen  \" + str(len(ratings[ratings['num of ratings']>300])) + \" productos con al menos 300 evaluaciones\")\n"
   ]
  },
  {
   "cell_type": "markdown",
   "metadata": {},
   "source": [
    "¿Cuántos productos se tienen por número de evaluaciones (al menos 300)?"
   ]
  },
  {
   "cell_type": "code",
   "execution_count": 101,
   "metadata": {},
   "outputs": [
    {
     "data": {
      "text/plain": [
       "<Axes: >"
      ]
     },
     "execution_count": 101,
     "metadata": {},
     "output_type": "execute_result"
    },
    {
     "data": {
      "image/png": "[encoded data removed]",
      "text/plain": [
       "<Figure size 1000x400 with 1 Axes>"
      ]
     },
     "metadata": {},
     "output_type": "display_data"
    }
   ],
   "source": [
    "plt.figure(figsize=(10,4))\n",
    "ratings[ratings['num of ratings']>300]['num of ratings'].hist(bins=70)"
   ]
  },
  {
   "cell_type": "markdown",
   "metadata": {},
   "source": [
    "De lo anterior observamos que los productos entre 300 y 500 evaluaciones se concentran en 5 o 25 productos distintos"
   ]
  },
  {
   "cell_type": "markdown",
   "metadata": {},
   "source": [
    "La distribución de los ratings observados se ve de la siguiente forma"
   ]
  },
  {
   "cell_type": "code",
   "execution_count": 102,
   "metadata": {},
   "outputs": [
    {
     "data": {
      "text/plain": [
       "<Axes: >"
      ]
     },
     "execution_count": 102,
     "metadata": {},
     "output_type": "execute_result"
    },
    {
     "data": {
      "image/png": "[encoded data removed]",
      "text/plain": [
       "<Figure size 1000x400 with 1 Axes>"
      ]
     },
     "metadata": {},
     "output_type": "display_data"
    }
   ],
   "source": [
    "plt.figure(figsize=(10,4))\n",
    "ratings['rating'].hist(bins=70)"
   ]
  },
  {
   "cell_type": "markdown",
   "metadata": {},
   "source": [
    "y para aquellos que tienen más de 300 evaluaciones se ve así: "
   ]
  },
  {
   "cell_type": "code",
   "execution_count": 103,
   "metadata": {},
   "outputs": [
    {
     "data": {
      "text/plain": [
       "<Axes: >"
      ]
     },
     "execution_count": 103,
     "metadata": {},
     "output_type": "execute_result"
    },
    {
     "data": {
      "image/png": "[encoded data removed]",
      "text/plain": [
       "<Figure size 1000x400 with 1 Axes>"
      ]
     },
     "metadata": {},
     "output_type": "display_data"
    }
   ],
   "source": [
    "plt.figure(figsize=(10,4))\n",
    "ratings[ratings['num of ratings']>300]['rating'].hist(bins=70)"
   ]
  },
  {
   "cell_type": "markdown",
   "metadata": {},
   "source": [
    "Se observa que en general la mayoría de los productos con más de 300 evaluaciones tienen ratings por arriba de 3 / 3.5 de calificacación"
   ]
  },
  {
   "cell_type": "markdown",
   "metadata": {},
   "source": [
    "Y para los que tienen menos de 300 evaluaciones se ve así: "
   ]
  },
  {
   "cell_type": "code",
   "execution_count": 104,
   "metadata": {},
   "outputs": [
    {
     "data": {
      "text/plain": [
       "<Axes: >"
      ]
     },
     "execution_count": 104,
     "metadata": {},
     "output_type": "execute_result"
    },
    {
     "data": {
      "image/png": "[encoded data removed]",
      "text/plain": [
       "<Figure size 1000x400 with 1 Axes>"
      ]
     },
     "metadata": {},
     "output_type": "display_data"
    }
   ],
   "source": [
    "plt.figure(figsize=(10,4))\n",
    "ratings[ratings['num of ratings']<300]['rating'].hist(bins=70)"
   ]
  },
  {
   "cell_type": "markdown",
   "metadata": {},
   "source": [
    "Una distribución menos sesgada y concentrada en valores enteros"
   ]
  },
  {
   "cell_type": "code",
   "execution_count": 105,
   "metadata": {},
   "outputs": [
    {
     "data": {
      "text/plain": [
       "<seaborn.axisgrid.JointGrid at 0x144afcbd0>"
      ]
     },
     "execution_count": 105,
     "metadata": {},
     "output_type": "execute_result"
    },
    {
     "data": {
      "image/png": "[encoded data removed]",
      "text/plain": [
       "<Figure size 600x600 with 3 Axes>"
      ]
     },
     "metadata": {},
     "output_type": "display_data"
    }
   ],
   "source": [
    "sns.jointplot(x='rating',y='num of ratings',data=ratings,alpha=0.5)"
   ]
  },
  {
   "cell_type": "markdown",
   "metadata": {},
   "source": [
    "Con el gráfico anterior observamos una correlación fuerte entre items con más calificaciones tieneden a tener en promedio calificaciones más altas"
   ]
  },
  {
   "cell_type": "markdown",
   "metadata": {},
   "source": [
    "# Muestreo "
   ]
  },
  {
   "cell_type": "markdown",
   "metadata": {},
   "source": [
    "Debido al gran tamaño de la muestra y poder de procesamiento, decidimos hacer un muestro aleatorio sobre el 20% del total de la muestra."
   ]
  },
  {
   "cell_type": "code",
   "execution_count": 106,
   "metadata": {},
   "outputs": [],
   "source": [
    "df_sample = df.sample(frac=0.2, replace=False, random_state=1234)"
   ]
  },
  {
   "cell_type": "code",
   "execution_count": 107,
   "metadata": {},
   "outputs": [
    {
     "name": "stdout",
     "output_type": "stream",
     "text": [
      " El muestro aleatorio cuenta con 140306 registros\n"
     ]
    }
   ],
   "source": [
    "print(\" El muestro aleatorio cuenta con \" + str(len(df_sample)) + \" registros\")"
   ]
  },
  {
   "cell_type": "markdown",
   "metadata": {},
   "source": [
    "# Sistema de Recomendación"
   ]
  },
  {
   "cell_type": "markdown",
   "metadata": {},
   "source": [
    "## KNN -- Algorítmo de K Vecinos más cercanos"
   ]
  },
  {
   "cell_type": "markdown",
   "metadata": {},
   "source": [
    "El algoritmo de k vecinos más cercanos, también conocido como KNN o k-NN, que utiliza la proximidad para hacer clasificaciones o predicciones sobre la agrupación de un punto de datos individual. Es decir, utiliza la medida de la distancia entre observaciones (medida por las distintas características que identifican a cada observación). \n",
    "\n",
    "En este caso lo utilizaremos como un sistema de recomendación que utiliza el algoritmo k-Vecinos más cercanos (KNN) para identificar aquellos artículos de compra que son similares a una a determinados artículos por su rating asigando por usuarios."
   ]
  },
  {
   "cell_type": "markdown",
   "metadata": {},
   "source": [
    "Para la construcción del sistema de recomendación a través del algorítmo de KNN es necesario construir la matris de eleementos de usuario y items. \n",
    "\n",
    "Esta es una matriz que es una estructura de datos básica en los sistemas de recomendación. Así es como funciona:\n",
    "\n",
    "- Para encontrar la cantidad de usuarios únicos y videos únicos en el conjunto de datos, se calculan N y M.\n",
    "- Se producen cuatro diccionarios:\n",
    "    -user_mapper: asigna distintos ID de usuario a índices (el ID de usuario 1 se convierte en el índice 0, por ejemplo).\n",
    "    -item_mapper: convierte distintos ID de artículos de compra en índices (el ID de item 1 se convierte en índice 0, por ejemplo).\n",
    "    -user_inv_mapper: invierte user_mapper y asigna índices a ID de usuario.\n",
    "    -item_inv_mapper: invierte movie_mapper asignando índices a ID de items.\n",
    "- Para asignar los ID de usuario y de artículos reales en el conjunto de datos a sus índices coincidentes, se generan las listas user_index y item_index.\n",
    "- Se crea una matriz X dispersa utilizando la función SciPy csr_matrix. Los índices de usuarios y artículos que corresponden a los valores de calificación en el conjunto de datos se utilizan para generar esta matriz. Su forma es (M, N), donde M denota la cantidad de distintas películas y N denota la cantidad de distintos consumidores.\n",
    "\n",
    "Para decirlo de otra manera, este código facilita la realización de cálculos y la creación de sistemas de recomendación basados ​​en la representación estructurada de las calificaciones de los usuarios para items de compra en los datos."
   ]
  },
  {
   "cell_type": "code",
   "execution_count": 108,
   "metadata": {},
   "outputs": [],
   "source": [
    "# Now, we create user-item matrix using scipy csr matrix\n",
    "#from scipy.sparse import csr_matrix\n",
    "\n",
    "def create_matrix(df_sample):\n",
    "\t\n",
    "\tN = len(df_sample['user_id'].unique())\n",
    "\tM = len(df_sample['parent_asin'].unique())\n",
    "\t\n",
    "\t# Map Ids to indices\n",
    "\tuser_mapper = dict(zip(np.unique(df_sample[\"user_id\"]), list(range(N))))\n",
    "\titem_mapper = dict(zip(np.unique(df_sample[\"parent_asin\"]), list(range(M))))\n",
    "\t\n",
    "\t# Map indices to IDs\n",
    "\tuser_inv_mapper = dict(zip(list(range(N)), np.unique(df_sample[\"user_id\"])))\n",
    "\titem_inv_mapper = dict(zip(list(range(M)), np.unique(df_sample[\"parent_asin\"])))\n",
    "\t\n",
    "\tuser_index = [user_mapper[i] for i in df_sample['user_id']]\n",
    "\titem_index = [item_mapper[i] for i in df_sample['parent_asin']]\n",
    "\n",
    "\tX = csr_matrix((df_sample[\"rating\"], (item_index, user_index)), shape=(M, N))\n",
    "\t\n",
    "\treturn X, user_mapper, item_mapper, user_inv_mapper, item_inv_mapper\n",
    "\t\n",
    "X, user_mapper, item_mapper, user_inv_mapper, item_inv_mapper = create_matrix(df_sample)\n"
   ]
  },
  {
   "cell_type": "markdown",
   "metadata": {},
   "source": [
    "La función toma entradas como la ID del item comprado, una matriz de elementos de usuario (X), el número de vecinos a considerar (k), una métrica de similitud (la similitud predeterminada es el coseno). La función comienza inicializando una lista en blanco para contener las identificaciones de películas que son comparables. Saca el índice de la película de destino del diccionario y utiliza la matriz de elementos de usuario para adquirir el vector de características que lo acompaña. A continuación, el modelo KNN se configura utilizando los parámetros dados.\n",
    "\n",
    "Las distancias y los índices de los k vecinos más cercanos a cada item de compra de destino se calculan una vez que se ha ajustado el modelo KNN. Utilizando el diccionario, el bucle recupera estos índices vecinos y los asigna nuevamente a los ID de items. El código termina con una lista de artículos relacionados, sugiriendo items de compra basadas en el modelo KNN."
   ]
  },
  {
   "cell_type": "markdown",
   "metadata": {},
   "source": [
    "### Enontrar Artículos similares a X Artículo"
   ]
  },
  {
   "cell_type": "code",
   "execution_count": 109,
   "metadata": {},
   "outputs": [],
   "source": [
    "\"\"\"\n",
    "Find similar items using KNN\n",
    "\"\"\"\n",
    "def find_similar_items(item_id, X, k, metric='cosine', show_distance=False):\n",
    "\t\n",
    "\tneighbour_ids = []\n",
    "\t\n",
    "\titem_ind = item_mapper[item_id]\n",
    "\titem_vec = X[item_ind]\n",
    "\tk+=1\n",
    "\tkNN = NearestNeighbors(n_neighbors=k, algorithm=\"brute\", metric=metric)\n",
    "\tkNN.fit(X)\n",
    "\titem_vec = item_vec.reshape(1,-1)\n",
    "\tneighbour = kNN.kneighbors(item_vec, return_distance=show_distance)\n",
    "\tfor i in range(0,k):\n",
    "\t\tn = neighbour.item(i)\n",
    "\t\tneighbour_ids.append(item_inv_mapper[n])\n",
    "\tneighbour_ids.pop(0)\n",
    "\treturn neighbour_ids\n",
    "\n",
    "item_titles = dict(zip(df_sample['parent_asin'], df_sample['parent_asin']))"
   ]
  },
  {
   "cell_type": "code",
   "execution_count": 110,
   "metadata": {},
   "outputs": [
    {
     "name": "stdout",
     "output_type": "stream",
     "text": [
      "Since you buyed B0BM4GX6TT\n",
      "B07NVFWKYF\n",
      "B078845YCW\n",
      "B088DJML9S\n",
      "B00HLRS43U\n",
      "B011AZLQ4C\n",
      "B07CJV6HFZ\n",
      "B08CRP78R8\n",
      "B094FSSGWP\n",
      "B07PQTCQ7D\n",
      "B0792P86RW\n"
     ]
    }
   ],
   "source": [
    "\n",
    "item_id = 'B0BM4GX6TT'\n",
    "\n",
    "similar_ids = find_similar_items(item_id, X, k=10)\n",
    "item_title = item_titles[item_id]\n",
    "\n",
    "print(f\"Since you buyed {item_title}\")\n",
    "for i in similar_ids:\n",
    "\tprint(item_titles[i])\n"
   ]
  },
  {
   "cell_type": "markdown",
   "metadata": {},
   "source": [
    "Dado que compraste B0BM4GX6TT te podría gustar: \n",
    "\n",
    "- B07NVFWKYF\n",
    "- B078845YCW\n",
    "- B088DJML9S\n",
    "- B00HLRS43U\n",
    "- B011AZLQ4C\n",
    "- B07CJV6HFZ\n",
    "- B08CRP78R8\n",
    "- B094FSSGWP\n",
    "- B07PQTCQ7D\n",
    "- B0792P86RW"
   ]
  },
  {
   "cell_type": "markdown",
   "metadata": {},
   "source": [
    "### Encontrar árticulos que podrían gustarle a X Usuario"
   ]
  },
  {
   "cell_type": "code",
   "execution_count": 111,
   "metadata": {},
   "outputs": [],
   "source": [
    "def recommend_items_for_user(user_id, X, user_mapper, item_mapper, item_inv_mapper, k=10):\n",
    "\tdf1 = df_sample[df_sample['user_id'] == user_id]\n",
    "\t\n",
    "\tif df1.empty:\n",
    "\t\tprint(f\"User with ID {user_id} does not exist.\")\n",
    "\t\treturn\n",
    "\n",
    "\titem_id = df1[df1['rating'] == max(df1['rating'])]['parent_asin'].iloc[0]\n",
    "\n",
    "\titem_titles = dict(zip(df_sample['parent_asin'], df_sample['parent_asin']))\n",
    "\n",
    "\tsimilar_ids = find_similar_items(item_id, X, k)\n",
    "\titem_title = item_titles.get(item_id, \"Item not found\")\n",
    "\n",
    "\tif item_title == \"Item not found\":\n",
    "\t\tprint(f\"Item with ID {item_id} not found.\")\n",
    "\t\treturn\n",
    "\n",
    "\tprint(f\"Since you buyed {item_title}, you might also like:\")\n",
    "\tfor i in similar_ids:\n",
    "\t\tprint(item_titles.get(i, \"Item not found\"))\n"
   ]
  },
  {
   "cell_type": "code",
   "execution_count": 112,
   "metadata": {},
   "outputs": [
    {
     "data": {
      "text/html": [
       "<div>\n",
       "<style scoped>\n",
       "    .dataframe tbody tr th:only-of-type {\n",
       "        vertical-align: middle;\n",
       "    }\n",
       "\n",
       "    .dataframe tbody tr th {\n",
       "        vertical-align: top;\n",
       "    }\n",
       "\n",
       "    .dataframe thead th {\n",
       "        text-align: right;\n",
       "    }\n",
       "</style>\n",
       "<table border=\"1\" class=\"dataframe\">\n",
       "  <thead>\n",
       "    <tr style=\"text-align: right;\">\n",
       "      <th></th>\n",
       "      <th>asin</th>\n",
       "      <th>parent_asin</th>\n",
       "      <th>user_id</th>\n",
       "      <th>rating</th>\n",
       "      <th>helpful_vote</th>\n",
       "      <th>verified_purchase</th>\n",
       "    </tr>\n",
       "  </thead>\n",
       "  <tbody>\n",
       "    <tr>\n",
       "      <th>169932</th>\n",
       "      <td>B07H7C4SJK</td>\n",
       "      <td>B07H7C4SJK</td>\n",
       "      <td>AFWUQ2CT6NCFBTTNI3OCWDB3CRYQ</td>\n",
       "      <td>5.0</td>\n",
       "      <td>2</td>\n",
       "      <td>True</td>\n",
       "    </tr>\n",
       "    <tr>\n",
       "      <th>117265</th>\n",
       "      <td>B07T9GXWLT</td>\n",
       "      <td>B07T9GXWLT</td>\n",
       "      <td>AGI5JHRJ2PSK5BURGV762KIG2Y5A</td>\n",
       "      <td>5.0</td>\n",
       "      <td>0</td>\n",
       "      <td>True</td>\n",
       "    </tr>\n",
       "    <tr>\n",
       "      <th>30312</th>\n",
       "      <td>B073R5WZ4F</td>\n",
       "      <td>B073R5WZ4F</td>\n",
       "      <td>AEDSDRACFPPSWJTYBRFPMHUMHWDQ</td>\n",
       "      <td>5.0</td>\n",
       "      <td>0</td>\n",
       "      <td>True</td>\n",
       "    </tr>\n",
       "    <tr>\n",
       "      <th>335686</th>\n",
       "      <td>B071S98JST</td>\n",
       "      <td>B071S98JST</td>\n",
       "      <td>AEHQ7LKVLDNZOYSMFQFJU6DORK3Q</td>\n",
       "      <td>4.0</td>\n",
       "      <td>0</td>\n",
       "      <td>True</td>\n",
       "    </tr>\n",
       "    <tr>\n",
       "      <th>101796</th>\n",
       "      <td>B077BZCPSK</td>\n",
       "      <td>B077BZCPSK</td>\n",
       "      <td>AHTCO6WZEFV2UURBBZCLOKLSA64A</td>\n",
       "      <td>3.0</td>\n",
       "      <td>0</td>\n",
       "      <td>True</td>\n",
       "    </tr>\n",
       "  </tbody>\n",
       "</table>\n",
       "</div>"
      ],
      "text/plain": [
       "              asin parent_asin                       user_id  rating   \n",
       "169932  B07H7C4SJK  B07H7C4SJK  AFWUQ2CT6NCFBTTNI3OCWDB3CRYQ     5.0  \\\n",
       "117265  B07T9GXWLT  B07T9GXWLT  AGI5JHRJ2PSK5BURGV762KIG2Y5A     5.0   \n",
       "30312   B073R5WZ4F  B073R5WZ4F  AEDSDRACFPPSWJTYBRFPMHUMHWDQ     5.0   \n",
       "335686  B071S98JST  B071S98JST  AEHQ7LKVLDNZOYSMFQFJU6DORK3Q     4.0   \n",
       "101796  B077BZCPSK  B077BZCPSK  AHTCO6WZEFV2UURBBZCLOKLSA64A     3.0   \n",
       "\n",
       "        helpful_vote  verified_purchase  \n",
       "169932             2               True  \n",
       "117265             0               True  \n",
       "30312              0               True  \n",
       "335686             0               True  \n",
       "101796             0               True  "
      ]
     },
     "execution_count": 112,
     "metadata": {},
     "output_type": "execute_result"
    }
   ],
   "source": [
    "df_sample.head()"
   ]
  },
  {
   "cell_type": "code",
   "execution_count": 113,
   "metadata": {},
   "outputs": [
    {
     "name": "stdout",
     "output_type": "stream",
     "text": [
      "Since you watched B07H7C4SJK, you might also like:\n",
      "B081NGYJJ2\n",
      "B081NBM598\n",
      "B081NJ6Q6H\n",
      "B081NH5KNB\n",
      "B081PM5NJ3\n",
      "B081MY938C\n",
      "B081N2VVMP\n",
      "B081PPC9TW\n",
      "B081N7TZ9M\n",
      "B081PKVWNP\n"
     ]
    }
   ],
   "source": [
    "user_id = 'AFWUQ2CT6NCFBTTNI3OCWDB3CRYQ'\n",
    "recommend_movies_for_user(user_id, X, user_mapper, movie_mapper, movie_inv_mapper, k=10)\n"
   ]
  },
  {
   "cell_type": "code",
   "execution_count": null,
   "metadata": {},
   "outputs": [],
   "source": []
  }
 ],
 "metadata": {
  "kernelspec": {
   "display_name": "Python 3",
   "language": "python",
   "name": "python3"
  },
  "language_info": {
   "codemirror_mode": {
    "name": "ipython",
    "version": 3
   },
   "file_extension": ".py",
   "mimetype": "text/x-python",
   "name": "python",
   "nbconvert_exporter": "python",
   "pygments_lexer": "ipython3",
   "version": "3.11.0"
  }
 },
 "nbformat": 4,
 "nbformat_minor": 2
}
